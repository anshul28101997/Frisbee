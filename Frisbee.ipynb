{
 "cells": [
  {
   "cell_type": "code",
   "execution_count": 2,
   "id": "05f13401-098b-4400-bbcb-089be50d273a",
   "metadata": {},
   "outputs": [
    {
     "name": "stdout",
     "output_type": "stream",
     "text": [
      "CA488ddad03c9ab0f709670c39f75eaff5\n"
     ]
    }
   ],
   "source": [
    "# Download the helper library from https://www.twilio.com/docs/python/install\n",
    "from twilio.rest import Client\n",
    "# Your Account Sid and Auth Token from twilio.com/console\n",
    "# DANGER! This is insecure. See http://twil.io/secure\n",
    "account_sid = 'ACf3d44560c69d39837b7428684f366a84'\n",
    "auth_token = '5260a4e5089809e227d18a1f34457f74'\n",
    "client = Client(account_sid, auth_token)\n",
    "\n",
    "phone_numbers = [];\n",
    "# phone_numbers.append('+919585559166') #Nishant\n",
    "# phone_numbers.append('+918248809225') #thuder\n",
    "# phone_numbers.append('+919585172218') #arya\n",
    "# phone_numbers.append('+919345093460') #sagarika\n",
    "# phone_numbers.append('+919894236215') #vinith\n",
    "# phone_numbers.append('+919943762441') #dhruv\n",
    "phone_numbers.append('+918220870727') #anshul\n",
    "# phone_numbers.append('+918838059908') #chintu\n",
    "\n",
    "\n",
    "for phone in phone_numbers:\n",
    "    call = client.calls.create(\n",
    "                            #twiml='<Response><Say>Ahoy, World!</Say></Response>',\n",
    "                            twiml = '<Response><Say>Wake Up, Wake Up, Wake Up, Wake Up, Wake Up</Say></Response>',\n",
    "                            to=phone,\n",
    "                            from_='+18565954849'\n",
    "                        )\n",
    "\n",
    "    print(call.sid)\n",
    "\n",
    "#to record a new voice, use this website. it's perfect. https://recordmp3online.com/\n",
    "\n",
    "#the following is enough to run the code from python\n",
    "#https://www.twilio.com/docs/voice/tutorials/how-to-make-outbound-phone-calls-python?code-sample=code-make-an-outbound-call&code-language=Python&code-sdk-version=6.x\n",
    "\n",
    "#the following is the link to run the code from js\n",
    "#https://github.com/TwilioDevEd/clicktocall-flask\n"
   ]
  },
  {
   "cell_type": "code",
   "execution_count": null,
   "id": "0e6608fb-c16d-4a79-80ff-2a0bec3070f0",
   "metadata": {},
   "outputs": [],
   "source": []
  }
 ],
 "metadata": {
  "kernelspec": {
   "display_name": "Python 3",
   "language": "python",
   "name": "python3"
  },
  "language_info": {
   "codemirror_mode": {
    "name": "ipython",
    "version": 3
   },
   "file_extension": ".py",
   "mimetype": "text/x-python",
   "name": "python",
   "nbconvert_exporter": "python",
   "pygments_lexer": "ipython3",
   "version": "3.7.8"
  }
 },
 "nbformat": 4,
 "nbformat_minor": 5
}

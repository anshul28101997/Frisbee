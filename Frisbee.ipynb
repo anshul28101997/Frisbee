{
 "cells": [
  {
   "cell_type": "code",
   "execution_count": 1,
   "id": "cab040e1-78a0-4816-a197-b6cc74d4c682",
   "metadata": {},
   "outputs": [
    {
     "name": "stdout",
     "output_type": "stream",
     "text": [
      "Requirement already satisfied: twilio in /srv/conda/envs/notebook/lib/python3.7/site-packages (7.7.0)\n",
      "Requirement already satisfied: requests>=2.0.0 in /srv/conda/envs/notebook/lib/python3.7/site-packages (from twilio) (2.27.1)\n",
      "Requirement already satisfied: pytz in /srv/conda/envs/notebook/lib/python3.7/site-packages (from twilio) (2021.3)\n",
      "Requirement already satisfied: PyJWT<3.0.0,>=2.0.0 in /srv/conda/envs/notebook/lib/python3.7/site-packages (from twilio) (2.3.0)\n",
      "Requirement already satisfied: certifi>=2017.4.17 in /srv/conda/envs/notebook/lib/python3.7/site-packages (from requests>=2.0.0->twilio) (2021.10.8)\n",
      "Requirement already satisfied: urllib3<1.27,>=1.21.1 in /srv/conda/envs/notebook/lib/python3.7/site-packages (from requests>=2.0.0->twilio) (1.26.8)\n",
      "Requirement already satisfied: charset-normalizer~=2.0.0 in /srv/conda/envs/notebook/lib/python3.7/site-packages (from requests>=2.0.0->twilio) (2.0.10)\n",
      "Requirement already satisfied: idna<4,>=2.5 in /srv/conda/envs/notebook/lib/python3.7/site-packages (from requests>=2.0.0->twilio) (3.3)\n"
     ]
    }
   ],
   "source": [
    "%%bash\n",
    "pip install twilio"
   ]
  },
  {
   "cell_type": "code",
   "execution_count": null,
   "id": "0758f81a-89a1-46da-a9cf-fb442a510f00",
   "metadata": {},
   "outputs": [],
   "source": [
    "phone_numbers = [];\n",
    "# phone_numbers.append('+919944541604') #Niki\n",
    "# phone_numbers.append('+917845181911') #hesrh\n",
    "# phone_numbers.append('+919600921801') #Juz\n",
    "# phone_numbers.append('+919345093460') #sagarika\n",
    "# phone_numbers.append('+919043011996') #Kama\n",
    "# phone_numbers.append('+919943762441') #dhruv\n",
    "phone_numbers.append('+918220870727') #anshul\n",
    "# phone_numbers.append('+919843013593') #nishit\n",
    "# phone_numbers.append('+919791971378') #pooja\n",
    "# phone_numbers.append('+91984321966') #vikram\n",
    "# phone_numbers.append('+919566385254') #praneet\n",
    "# phone_numbers.append('+919843398533') #praddy\n",
    "# phone_numbers.append('+919042542069') #hesrh\n",
    "\n",
    "# ------------OR----------\n",
    "# phone_numbers = ['+918220870727', ]"
   ]
  },
  {
   "cell_type": "code",
   "execution_count": 15,
   "id": "05f13401-098b-4400-bbcb-089be50d273a",
   "metadata": {},
   "outputs": [
    {
     "name": "stdout",
     "output_type": "stream",
     "text": [
      "CA2179cdb83fdda9d701d66e6f580a37d4\n"
     ]
    }
   ],
   "source": [
    "# Download the helper library from https://www.twilio.com/docs/python/install\n",
    "from twilio.rest import Client\n",
    "# Your Account Sid and Auth Token from twilio.com/console\n",
    "# DANGER! This is insecure. See http://twil.io/secure\n",
    "account_sid = 'ACf3d44560c69d39837b7428684f366a84'\n",
    "auth_token = '---'\n",
    "client = Client(account_sid, auth_token)\n",
    "\n",
    "def call():\n",
    "    for phone in phone_numbers:\n",
    "        call = client.calls.create(\n",
    "                                twiml = '<Response><Say>Wake Up! Wake Up! Wake Up! Wake Up! Guess who? Nevermind, just get your lazzy ass out of bed already! its frrisbee time!</Say></Response>',\n",
    "                                to=phone,\n",
    "                                from_='+18565954849'\n",
    "                            )\n",
    "\n",
    "        print(call.sid)\n",
    "call()\n",
    "#to record a new voice, use this website. it's perfect. https://recordmp3online.com/\n",
    "\n",
    "#the following is enough to run the code from python\n",
    "#https://www.twilio.com/docs/voice/tutorials/how-to-make-outbound-phone-calls-python?code-sample=code-make-an-outbound-call&code-language=Python&code-sdk-version=6.x\n",
    "\n",
    "#the following is the link to run the code from js\n",
    "#https://github.com/TwilioDevEd/clicktocall-flask\n"
   ]
  },
  {
   "cell_type": "code",
   "execution_count": 13,
   "id": "0e6608fb-c16d-4a79-80ff-2a0bec3070f0",
   "metadata": {},
   "outputs": [
    {
     "name": "stdout",
     "output_type": "stream",
     "text": [
      "0\n",
      "1\n",
      "2\n",
      "3\n",
      "4\n"
     ]
    }
   ],
   "source": [
    "# call again once after 5 mins\n",
    "import time\n",
    "time.sleep(300)\n",
    "call()"
   ]
  },
  {
   "cell_type": "code",
   "execution_count": null,
   "id": "8a203d7d-b477-4af6-9de4-8a86871bbc0c",
   "metadata": {},
   "outputs": [],
   "source": []
  }
 ],
 "metadata": {
  "kernelspec": {
   "display_name": "Python 3 (ipykernel)",
   "language": "python",
   "name": "python3"
  },
  "language_info": {
   "codemirror_mode": {
    "name": "ipython",
    "version": 3
   },
   "file_extension": ".py",
   "mimetype": "text/x-python",
   "name": "python",
   "nbconvert_exporter": "python",
   "pygments_lexer": "ipython3",
   "version": "3.7.12"
  }
 },
 "nbformat": 4,
 "nbformat_minor": 5
}
